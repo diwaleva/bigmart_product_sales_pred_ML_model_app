{
  "nbformat": 4,
  "nbformat_minor": 0,
  "metadata": {
    "colab": {
      "provenance": []
    },
    "kernelspec": {
      "name": "python3",
      "display_name": "Python 3"
    },
    "language_info": {
      "name": "python"
    }
  },
  "cells": [
    {
      "cell_type": "markdown",
      "source": [
        "# Bigmart Item Outlet Sales Prediction App Deployment"
      ],
      "metadata": {
        "id": "Ena5Tqhjv9S2"
      }
    },
    {
      "cell_type": "markdown",
      "metadata": {
        "id": "SmbRoSP7J6dG"
      },
      "source": [
        "## Connect to the Google Drive"
      ]
    },
    {
      "cell_type": "code",
      "execution_count": 109,
      "metadata": {
        "colab": {
          "base_uri": "https://localhost:8080/"
        },
        "id": "l2PiR5NiKIgm",
        "outputId": "aa3969d6-7262-4999-ec8c-bcc09a010ffe"
      },
      "outputs": [
        {
          "output_type": "stream",
          "name": "stdout",
          "text": [
            "Drive already mounted at /content/drive; to attempt to forcibly remount, call drive.mount(\"/content/drive\", force_remount=True).\n"
          ]
        }
      ],
      "source": [
        "# mounting the drive\n",
        "from google.colab import drive\n",
        "drive.mount('/content/drive')"
      ]
    },
    {
      "cell_type": "markdown",
      "source": [
        "### Data Dictionary:\n",
        "\n",
        "- **Item Weight**:  Weight of the product.\n",
        "- **Item_Fat_Content**: Amount of fat in the products( Low or Regular)\n",
        "- **Item_Type**: Type of Item (Dairy, Drinks, Fruits, Others)\n",
        "- **Item_MRP** : Maximum Retail Price (list price) of the product.\n",
        "- **Outlet_Size:** The size of the store in terms of ground areas covererd (Small, Medium, High).\n",
        "- **Item_Outlet_Sales:** This is the target outcome variable. It represents the sale of product in a particular store."
      ],
      "metadata": {
        "id": "G3_9uelxhU57"
      }
    },
    {
      "cell_type": "markdown",
      "source": [
        "### Saved Model:\n",
        "\n",
        "- **Model File**: bigmart_app_model.sav\n",
        "- **Model** : Linear Regression()"
      ],
      "metadata": {
        "id": "nGRBWu1Ekz0C"
      }
    },
    {
      "cell_type": "code",
      "source": [],
      "metadata": {
        "id": "AQBWQzNLksi1"
      },
      "execution_count": 109,
      "outputs": []
    },
    {
      "cell_type": "markdown",
      "source": [
        "### Install Libraries"
      ],
      "metadata": {
        "id": "vpMkUSOvMEMV"
      }
    },
    {
      "cell_type": "code",
      "source": [
        "!pip install --upgrade pip"
      ],
      "metadata": {
        "colab": {
          "base_uri": "https://localhost:8080/"
        },
        "id": "mdWYWqOmgIkB",
        "outputId": "cead97cd-1348-403c-8e3b-44d855a1c687"
      },
      "execution_count": 110,
      "outputs": [
        {
          "output_type": "stream",
          "name": "stdout",
          "text": [
            "Requirement already satisfied: pip in /usr/local/lib/python3.10/dist-packages (24.3.1)\n"
          ]
        }
      ]
    },
    {
      "cell_type": "code",
      "source": [
        "# installing pyngrok\n",
        "!pip install -q pyngrok"
      ],
      "metadata": {
        "id": "1HvqucMHMKoM"
      },
      "execution_count": 111,
      "outputs": []
    },
    {
      "cell_type": "code",
      "source": [
        "# installing streamlit\n",
        "!pip install -q streamlit"
      ],
      "metadata": {
        "id": "v1ve3vphMSqS"
      },
      "execution_count": 112,
      "outputs": []
    },
    {
      "cell_type": "code",
      "source": [
        "# Upgrade pip\n",
        "!pip install --upgrade pip"
      ],
      "metadata": {
        "colab": {
          "base_uri": "https://localhost:8080/"
        },
        "id": "WaP1p4822nqd",
        "outputId": "0b9cd210-19ea-4868-803d-97659a4e5b37"
      },
      "execution_count": 113,
      "outputs": [
        {
          "output_type": "stream",
          "name": "stdout",
          "text": [
            "Requirement already satisfied: pip in /usr/local/lib/python3.10/dist-packages (24.3.1)\n"
          ]
        }
      ]
    },
    {
      "cell_type": "code",
      "source": [
        "# import the libraries\n",
        "import streamlit as st\n",
        "import pandas as pd\n",
        "#import numpy as np\n",
        "# importing required libraries\n",
        "from sklearn import preprocessing\n",
        "from sklearn.preprocessing import MinMaxScaler\n",
        "from sklearn.linear_model import LinearRegression\n",
        "from sklearn.metrics import r2_score, mean_squared_error, mean_absolute_error as mae\n",
        "# from math import sqrt\n",
        "# import pickle, csv\n",
        "# import warnings\n",
        "# warnings.filterwarnings('ignore')"
      ],
      "metadata": {
        "id": "JFwqQqNGDaSK"
      },
      "execution_count": 114,
      "outputs": []
    },
    {
      "cell_type": "code",
      "source": [
        "#!pip install pipreqs"
      ],
      "metadata": {
        "id": "pd_P1gJ0olxe"
      },
      "execution_count": 115,
      "outputs": []
    },
    {
      "cell_type": "markdown",
      "source": [
        "### Front End"
      ],
      "metadata": {
        "id": "4gDFnOHkLeiu"
      }
    },
    {
      "cell_type": "code",
      "source": [
        "# creating the script\n",
        "%%writefile app.py\n",
        "\n",
        "#import required libraries\n",
        "import streamlit as st\n",
        "import pandas as pd\n",
        "from sklearn import preprocessing\n",
        "from sklearn.preprocessing import MinMaxScaler\n",
        "from sklearn.linear_model import LinearRegression\n",
        "from sklearn.metrics import r2_score, mean_squared_error, mean_absolute_error as mae\n",
        "\n",
        "\n",
        "import joblib\n",
        "model_regressor = joblib.load('bigmart_app_model.sav')\n",
        "\n",
        "# this is the main function in which we define our app\n",
        "def main():\n",
        "    # header of the page\n",
        "    html_temp = \"\"\"\n",
        "    <div style =\"background-color:lightblue;padding:13px\">\n",
        "    <h1 style =\"color:dark-gray;text-align:center;\">Check your Item Outlet Sales Predictions</h1>\n",
        "    </div>\n",
        "    \"\"\"\n",
        "    st.markdown(html_temp, unsafe_allow_html = True)\n",
        "\n",
        "    # following lines create boxes in which user can enter data required to make prediction\n",
        "    Weight = st.number_input(\"Item Weight in lbs  (Ex: 10.3333)\")\n",
        "    MRP = st.number_input(\"Item MRP in $ (Ex: 10.3333)\")\n",
        "    Size = st.selectbox('Outlet_Size',(\"Small\",\"Medium\",\"High\"))\n",
        "    result =\"\"\n",
        "\n",
        "    # when 'Check' is clicked, make the prediction and store it\n",
        "    if st.button(\"Check\"):\n",
        "        result = prediction(Weight, MRP, Size)\n",
        "        st.success('Your item outlet sales is {}'.format(result))\n",
        "\n",
        "# defining the function which will make the prediction using the data which the user inputs\n",
        "def prediction(Weight, MRP, Size):\n",
        "    # 2. Loading and Pre-processing the data\n",
        "\n",
        "      if Size == \"Small\":\n",
        "        Size = 1.0\n",
        "      if Size == \"Medium\":\n",
        "        Size = 2.0\n",
        "      if Size == \"High\":\n",
        "        Size = 3.0\n",
        "\n",
        "      ## 3. Standardize the data using MinMaxScalar\n",
        "\n",
        "      # Create a dataframe\n",
        "      df_app = pd.DataFrame()\n",
        "      df_app = [Weight, MRP, Size]\n",
        "\n",
        "      # df_app['Weight'] = Weight\n",
        "      # df_app['MRP'] = MRP\n",
        "      # df_app['Size'] = Size\n",
        "\n",
        "      # apply minmax scalar to the dataframe\n",
        "      scaler = preprocessing.MinMaxScaler()\n",
        "      minmax_all = scaler.fit_transform(df_app)\n",
        "      minmax_all = pd.DataFrame(minmax_all, columns=df_app.columns.tolist())\n",
        "\n",
        "      # Reshape the values before sending it to the model as it contains single sample\n",
        "      minmax_all.reshape(-1,1)\n",
        "\n",
        "\n",
        "      # Generate predictions using the model\n",
        "      prediction = model_regressor.predict(minmax_all['Weight'], minmax_all['MRP'], minmax_all['Size'])\n",
        "\n",
        "      return prediction\n",
        "\n",
        "if __name__=='__main__':\n",
        "    main()"
      ],
      "metadata": {
        "id": "dhkQw9w5KRMy",
        "colab": {
          "base_uri": "https://localhost:8080/"
        },
        "outputId": "a698a947-efa6-4b39-bfee-52c060b03ae6"
      },
      "execution_count": 116,
      "outputs": [
        {
          "output_type": "stream",
          "name": "stdout",
          "text": [
            "Overwriting app.py\n"
          ]
        }
      ]
    },
    {
      "cell_type": "code",
      "source": [
        "!echo $PATH\n",
        "!which python\n",
        "!which streamlit"
      ],
      "metadata": {
        "colab": {
          "base_uri": "https://localhost:8080/"
        },
        "id": "N47nRt0jOeEV",
        "outputId": "16ab5932-c3ef-4fe1-8bc5-cf74ba0c84f3"
      },
      "execution_count": 117,
      "outputs": [
        {
          "output_type": "stream",
          "name": "stdout",
          "text": [
            "/opt/bin:/usr/local/nvidia/bin:/usr/local/cuda/bin:/usr/local/sbin:/usr/local/bin:/usr/sbin:/usr/bin:/sbin:/bin:/tools/node/bin:/tools/google-cloud-sdk/bin\n",
            "/usr/local/bin/python\n",
            "/usr/local/bin/streamlit\n"
          ]
        }
      ]
    },
    {
      "cell_type": "code",
      "source": [
        "# !streamlit hello   # runs a localhost:8501"
      ],
      "metadata": {
        "id": "qQEF_DR2PvX-"
      },
      "execution_count": 118,
      "outputs": []
    },
    {
      "cell_type": "code",
      "source": [
        "# running the app\n",
        "!streamlit run /content/app.py &>/dev/null&"
      ],
      "metadata": {
        "id": "CPEjNHhDhcpf"
      },
      "execution_count": 119,
      "outputs": []
    },
    {
      "cell_type": "code",
      "source": [
        "!streamlit hello   # runs a localhost:8501"
      ],
      "metadata": {
        "colab": {
          "base_uri": "https://localhost:8080/"
        },
        "id": "AjXEBawdhclI",
        "outputId": "1755192e-44e1-43e5-86ea-5cbbfcc2a633"
      },
      "execution_count": null,
      "outputs": [
        {
          "output_type": "stream",
          "name": "stdout",
          "text": [
            "\n",
            "Collecting usage statistics. To deactivate, set browser.gatherUsageStats to false.\n",
            "\u001b[0m\n",
            "\u001b[0m\n",
            "\u001b[34m\u001b[1m  Welcome to Streamlit. Check out our demo in your browser.\u001b[0m\n",
            "\u001b[0m\n",
            "\u001b[34m  Local URL: \u001b[0m\u001b[1mhttp://localhost:8501\u001b[0m\n",
            "\u001b[34m  Network URL: \u001b[0m\u001b[1mhttp://172.28.0.12:8501\u001b[0m\n",
            "\u001b[34m  External URL: \u001b[0m\u001b[1mhttp://34.29.229.188:8501\u001b[0m\n",
            "\u001b[0m\n",
            "  Ready to create your own Python apps super quickly?\u001b[0m\n",
            "  Head over to \u001b[0m\u001b[1mhttps://docs.streamlit.io\u001b[0m\n",
            "\u001b[0m\n",
            "  May you create awesome apps!\u001b[0m\n",
            "\u001b[0m\n",
            "\u001b[0m\n"
          ]
        }
      ]
    }
  ]
}