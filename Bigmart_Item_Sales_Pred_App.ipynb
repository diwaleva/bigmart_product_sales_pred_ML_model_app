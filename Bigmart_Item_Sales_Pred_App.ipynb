{
  "nbformat": 4,
  "nbformat_minor": 0,
  "metadata": {
    "colab": {
      "provenance": []
    },
    "kernelspec": {
      "name": "python3",
      "display_name": "Python 3"
    },
    "language_info": {
      "name": "python"
    }
  },
  "cells": [
    {
      "cell_type": "markdown",
      "source": [
        "# Bigmart Item Outlet Sales Prediction App Deployment"
      ],
      "metadata": {
        "id": "Ena5Tqhjv9S2"
      }
    },
    {
      "cell_type": "markdown",
      "source": [
        "### Install Libraries"
      ],
      "metadata": {
        "id": "vpMkUSOvMEMV"
      }
    },
    {
      "cell_type": "code",
      "source": [
        "!pip install --upgrade pip"
      ],
      "metadata": {
        "colab": {
          "base_uri": "https://localhost:8080/"
        },
        "id": "mdWYWqOmgIkB",
        "outputId": "c0cc5a62-b236-4b43-a665-c96ab15cdd9f"
      },
      "execution_count": 22,
      "outputs": [
        {
          "output_type": "stream",
          "name": "stdout",
          "text": [
            "Requirement already satisfied: pip in /usr/local/lib/python3.10/dist-packages (24.3.1)\n"
          ]
        }
      ]
    },
    {
      "cell_type": "code",
      "source": [
        "# installing pyngrok\n",
        "!pip install -q pyngrok"
      ],
      "metadata": {
        "id": "1HvqucMHMKoM"
      },
      "execution_count": 23,
      "outputs": []
    },
    {
      "cell_type": "code",
      "source": [
        "# installing streamlit\n",
        "!pip install -q streamlit"
      ],
      "metadata": {
        "id": "v1ve3vphMSqS"
      },
      "execution_count": 24,
      "outputs": []
    },
    {
      "cell_type": "code",
      "source": [
        "import streamlit as st\n",
        "# import the libraries\n",
        "import pandas as pd\n",
        "#import numpy as np\n",
        "# importing required libraries\n",
        "from sklearn import preprocessing\n",
        "from sklearn.preprocessing import MinMaxScaler\n",
        "from sklearn.linear_model import LinearRegression\n",
        "from sklearn.metrics import r2_score, mean_squared_error, mean_absolute_error as mae\n",
        "from math import sqrt\n",
        "import pickle, csv\n",
        "import warnings\n",
        "warnings.filterwarnings('ignore')"
      ],
      "metadata": {
        "id": "JFwqQqNGDaSK"
      },
      "execution_count": 25,
      "outputs": []
    },
    {
      "cell_type": "code",
      "source": [
        "#!pip install pipreqs"
      ],
      "metadata": {
        "id": "pd_P1gJ0olxe"
      },
      "execution_count": 26,
      "outputs": []
    },
    {
      "cell_type": "markdown",
      "source": [
        "### Front End"
      ],
      "metadata": {
        "id": "4gDFnOHkLeiu"
      }
    },
    {
      "cell_type": "code",
      "source": [
        "# creating the script\n",
        "%%writefile app.py\n",
        "\n",
        "import streamlit as st\n",
        "import joblib\n",
        "\n",
        "\n",
        "# loading the trained model\n",
        "# pickle_in = open('bigmart_streamlit_app_model.pkl', 'rb')\n",
        "# model_regressor = pickle.load(open('model.pkl','rb'))\n",
        "\n",
        "# filename = 'bigmart_streamlit_app_model.pkl'\n",
        "# # Load the model from the file\n",
        "# with open(filename, 'rb') as file:\n",
        "#         model_regressor = pickle.load(file)\n",
        "\n",
        "import joblib\n",
        "model_regressor = joblib.load('bigmart_app_model.sav')\n",
        "\n",
        "# this is the main function in which we define our app\n",
        "def main():\n",
        "    # header of the page\n",
        "    html_temp = \"\"\"\n",
        "    <div style =\"background-color:lightblue;padding:13px\">\n",
        "    <h1 style =\"color:dark-gray;text-align:center;\">Check your Item Outlet Sales Predictions</h1>\n",
        "    </div>\n",
        "    \"\"\"\n",
        "    st.markdown(html_temp, unsafe_allow_html = True)\n",
        "\n",
        "    # following lines create boxes in which user can enter data required to make prediction\n",
        "    Weight = st.number_input(\"Item Weight in lbs  (Ex: 3000.3333)\")\n",
        "    MRP = st.number_input(\"Item MRP in $ (Ex: 3000.3333)\")\n",
        "    Size = st.selectbox('Outlet_Size',(\"Small\",\"Medium\",\"High\"))\n",
        "    result =\"\"\n",
        "\n",
        "    # when 'Check' is clicked, make the prediction and store it\n",
        "    if st.button(\"Check\"):\n",
        "        result = prediction(Weight, MRP, Size)\n",
        "        st.success('Your item outlet sales is {}'.format(result))\n",
        "\n",
        "# defining the function which will make the prediction using the data which the user inputs\n",
        "def prediction(Weight, MRP, Size):\n",
        "    # 2. Loading and Pre-processing the data\n",
        "\n",
        "      if Size == \"Small\":\n",
        "        Size = 1.0\n",
        "      if Size == \"Medium\":\n",
        "        Size = 2.0\n",
        "      if Size == \"High\":\n",
        "        Size = 3.0\n",
        "\n",
        "      ## 3. Standardize the data using MinMaxScalar\n",
        "      df_app = pd.DataFrame()\n",
        "      df_app = [Weight, MRP, Size]\n",
        "\n",
        "      scaler = preprocessing.MinMaxScaler()\n",
        "      minmax_all = scaler.fit_transform(df_app)\n",
        "      minmax_all = pd.DataFrame(minmax_all, columns=df_app.columns.tolist())\n",
        "\n",
        "\n",
        "      prediction = model_regressor.predict(minmax_all['Weights'], minmax_all['MRP'], minmax_all['Size'])\n",
        "\n",
        "      return prediction\n",
        "\n",
        "if __name__=='__main__':\n",
        "    main()"
      ],
      "metadata": {
        "id": "dhkQw9w5KRMy",
        "colab": {
          "base_uri": "https://localhost:8080/"
        },
        "outputId": "79b41801-7b6f-4c9c-ca0f-3a5bff45bb8a"
      },
      "execution_count": 27,
      "outputs": [
        {
          "output_type": "stream",
          "name": "stdout",
          "text": [
            "Overwriting app.py\n"
          ]
        }
      ]
    }
  ]
}